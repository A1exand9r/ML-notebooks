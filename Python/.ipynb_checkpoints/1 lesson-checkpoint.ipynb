{
 "cells": [
  {
   "cell_type": "markdown",
   "id": "ee5bfd39",
   "metadata": {},
   "source": [
    "# Переменные и типы данных"
   ]
  },
  {
   "cell_type": "markdown",
   "id": "081e3932",
   "metadata": {},
   "source": [
    "## Переменные"
   ]
  },
  {
   "cell_type": "markdown",
   "id": "a1bc2ba0",
   "metadata": {},
   "source": [
    "Переменные предназначены для хранения данных. Название переменной в Python должно начинаться с алфавитного символа или со знака подчеркивания и может содержать алфавитно-цифровые символы и знак подчеркивания. И кроме того, название переменной не должно совпадать с названием ключевых слов языка Python. Ключевых слов не так много, их легко запомнить:\n",
    "\n"
   ]
  },
  {
   "cell_type": "markdown",
   "id": "d0e58030",
   "metadata": {},
   "source": [
    "#### False      await      else       import     pass\n",
    "#### None       break      except     in         raise\n",
    "#### True       class      finally    is         return\n",
    "#### and        continue   for        lambda     try\n",
    "#### as         def        from       nonlocal   while\n",
    "#### assert     del        global     not        with\n",
    "#### async      elif       if         or         yield"
   ]
  },
  {
   "cell_type": "markdown",
   "id": "499bfcd4",
   "metadata": {},
   "source": [
    "Например, создадим переменную:"
   ]
  },
  {
   "cell_type": "code",
   "execution_count": 1,
   "id": "df2ca995",
   "metadata": {},
   "outputs": [],
   "source": [
    "name = \"Tom\""
   ]
  },
  {
   "cell_type": "markdown",
   "id": "7c377070",
   "metadata": {},
   "source": [
    "Здесь определена переменная name, которая хранит строку \"Tom\".\n",
    "\n"
   ]
  },
  {
   "cell_type": "markdown",
   "id": "f7efd087",
   "metadata": {},
   "source": [
    "В пайтоне применяется два типа наименования переменных: camel case и underscore notation"
   ]
  },
  {
   "cell_type": "markdown",
   "id": "bad82e04",
   "metadata": {},
   "source": [
    "Camel case подразумевает, что каждое новое подслово в наименовании переменной начинается с большой буквы. Например:\n",
    "\n"
   ]
  },
  {
   "cell_type": "code",
   "execution_count": 2,
   "id": "7410d3f2",
   "metadata": {},
   "outputs": [],
   "source": [
    "userName = \"Tom\""
   ]
  },
  {
   "cell_type": "markdown",
   "id": "7c10baa2",
   "metadata": {},
   "source": [
    "Underscore notation подразумевает, что подслова в наименовании переменной разделяются знаком подчеркивания. Например:\n",
    "\n"
   ]
  },
  {
   "cell_type": "code",
   "execution_count": 3,
   "id": "be70885f",
   "metadata": {},
   "outputs": [],
   "source": [
    "user_name = \"Tom\""
   ]
  },
  {
   "cell_type": "markdown",
   "id": "4d48aa99",
   "metadata": {},
   "source": [
    "И также надо учитывать регистрозависимость, поэтому переменные name и Name будут представлять разные объекты.\n",
    "\n"
   ]
  },
  {
   "cell_type": "code",
   "execution_count": 4,
   "id": "599a6d07",
   "metadata": {},
   "outputs": [],
   "source": [
    "# две разные переменные\n",
    "name = \"Tom\"\n",
    "Name = \"Tom\""
   ]
  },
  {
   "cell_type": "markdown",
   "id": "32161a7c",
   "metadata": {},
   "source": [
    "Определив переменную, мы можем использовать в программе. Например, попытаться вывести ее содержимое на консоль с помощью встроенной функции print:\n",
    "\n"
   ]
  },
  {
   "cell_type": "code",
   "execution_count": 5,
   "id": "20327520",
   "metadata": {},
   "outputs": [
    {
     "name": "stdout",
     "output_type": "stream",
     "text": [
      "Tom\n"
     ]
    }
   ],
   "source": [
    "name = \"Tom\" # определение переменной name\n",
    "print(name) # вывод значения переменной name на консоль"
   ]
  },
  {
   "cell_type": "markdown",
   "id": "ed238f4b",
   "metadata": {},
   "source": [
    "Отличительной особенностью переменной является то, что мы можем менять ее значение в течение работы программы:\n",
    "\n"
   ]
  },
  {
   "cell_type": "code",
   "execution_count": 6,
   "id": "a4130eac",
   "metadata": {},
   "outputs": [
    {
     "name": "stdout",
     "output_type": "stream",
     "text": [
      "Tom\n",
      "Bob\n"
     ]
    }
   ],
   "source": [
    "name = \"Tom\" # переменной name равна \"Tom\"\n",
    "print(name) # выводит: Tom\n",
    "name = \"Bob\" # меняем значение на \"Bob\"\n",
    "print(name) # выводит: Bob"
   ]
  },
  {
   "cell_type": "markdown",
   "id": "1ed38126",
   "metadata": {},
   "source": [
    "## Типы данных\n"
   ]
  },
  {
   "cell_type": "markdown",
   "id": "91a48d66",
   "metadata": {},
   "source": [
    "Переменная хранит данные одного из типов данных. В Python существует множество различных типов данных. В данном случае рассмотрим только самые базовые типы: bool, int, float, complex и str.\n",
    "\n"
   ]
  },
  {
   "cell_type": "markdown",
   "id": "72978824",
   "metadata": {},
   "source": [
    "## Логические значения\n"
   ]
  },
  {
   "cell_type": "markdown",
   "id": "4da040f1",
   "metadata": {},
   "source": [
    "Тип bool представляет два логических значения: True (верно, истина) или False (неверно, ложь). Значение True служит для того, чтобы показать, что что-то истинно. Тогда как значение False, наоборот, показывает, что что-то ложно. Пример переменных данного типа:\n",
    "\n"
   ]
  },
  {
   "cell_type": "code",
   "execution_count": 7,
   "id": "e176c89c",
   "metadata": {},
   "outputs": [
    {
     "name": "stdout",
     "output_type": "stream",
     "text": [
      "False\n",
      "True\n"
     ]
    }
   ],
   "source": [
    "isMarried = False\n",
    "print(isMarried) # False\n",
    "\n",
    "isAlive = True\n",
    "print(isAlive) # True"
   ]
  },
  {
   "cell_type": "markdown",
   "id": "8708bd5e",
   "metadata": {},
   "source": [
    "## Целые числа\n"
   ]
  },
  {
   "cell_type": "markdown",
   "id": "591047ec",
   "metadata": {},
   "source": [
    "Тип int представляет целое число, например, 1, 4, 8, 50. Пример\n",
    "\n"
   ]
  },
  {
   "cell_type": "code",
   "execution_count": 8,
   "id": "fc7c838c",
   "metadata": {},
   "outputs": [
    {
     "name": "stdout",
     "output_type": "stream",
     "text": [
      "Возраст: 21\n",
      "Количество: 15\n"
     ]
    }
   ],
   "source": [
    "age = 21\n",
    "print(\"Возраст:\", age) # Возраст:21\n",
    "\n",
    "count = 15\n",
    "print(\"Количество:\", count) # Количество: 15"
   ]
  },
  {
   "cell_type": "markdown",
   "id": "0b33730a",
   "metadata": {},
   "source": [
    "По умолчанию стандартные числа расцениваются как числа в десятичной системе. Но Python также поддерживает числа в двоичной, восьмеричной и шестнадцатеричной системах.\n",
    "\n"
   ]
  },
  {
   "cell_type": "markdown",
   "id": "62c6ce88",
   "metadata": {},
   "source": [
    "Для указания, что число представляет двоичную систему, перед числом ставится префикс 0b:\n",
    "\n"
   ]
  },
  {
   "cell_type": "code",
   "execution_count": 9,
   "id": "fe7ddbef",
   "metadata": {},
   "outputs": [
    {
     "name": "stdout",
     "output_type": "stream",
     "text": [
      "3\n",
      "11\n",
      "33\n"
     ]
    }
   ],
   "source": [
    "a = 0b11\n",
    "b = 0b1011\n",
    "c = 0b100001\n",
    "print(a) # 3 в десятичной системе\n",
    "print(b) # 11 в десятичной системе\n",
    "print(c) # 33 в десятичной системе"
   ]
  },
  {
   "cell_type": "markdown",
   "id": "821bbc1b",
   "metadata": {},
   "source": [
    "Для указания, что число представляет восьмеричную систему, перед числом ставится префикс 0o:"
   ]
  },
  {
   "cell_type": "code",
   "execution_count": 10,
   "id": "ee5d5763",
   "metadata": {},
   "outputs": [
    {
     "name": "stdout",
     "output_type": "stream",
     "text": [
      "7\n",
      "9\n",
      "15\n"
     ]
    }
   ],
   "source": [
    "a = 0o7\n",
    "b = 0o11\n",
    "c = 0o17\n",
    "print(a) # 7 в десятичной системе\n",
    "print(b) # 9 в десятичной системе\n",
    "print(c) # 15 в десятичной системе"
   ]
  },
  {
   "cell_type": "markdown",
   "id": "9f86c16c",
   "metadata": {},
   "source": [
    "Для указания, что число представляет шестнадцатеричную систему, перед числом ставится префикс 0x:\n",
    "\n"
   ]
  },
  {
   "cell_type": "code",
   "execution_count": 11,
   "id": "0efbef33",
   "metadata": {},
   "outputs": [
    {
     "name": "stdout",
     "output_type": "stream",
     "text": [
      "10\n",
      "255\n",
      "161\n"
     ]
    }
   ],
   "source": [
    "a = 0x0A\n",
    "b = 0xFF\n",
    "c = 0xA1\n",
    "print(a) # 10 в десятичной системе\n",
    "print(b) # 255 в десятичной системе\n",
    "print(c) # 161 в десятичной системе"
   ]
  },
  {
   "cell_type": "markdown",
   "id": "babb6905",
   "metadata": {},
   "source": [
    "Стоит отметить, что в какой-бы системе мы не передали число в функцию print для вывода на консоль, оно по умолчанию будет выводиться в десятичной системе.\n",
    "\n"
   ]
  },
  {
   "cell_type": "markdown",
   "id": "0e2bc13d",
   "metadata": {},
   "source": [
    "## Дробные числа\n"
   ]
  },
  {
   "cell_type": "markdown",
   "id": "996c08ea",
   "metadata": {},
   "source": [
    "Тип float представляет число с плавающей точкой, например, 1.2 или 34.76. В качесте разделителя целой и дробной частей используется точка.\n",
    "\n"
   ]
  },
  {
   "cell_type": "code",
   "execution_count": 12,
   "id": "697343bf",
   "metadata": {},
   "outputs": [
    {
     "name": "stdout",
     "output_type": "stream",
     "text": [
      "1.68\n",
      "3.14\n",
      "68.0\n"
     ]
    }
   ],
   "source": [
    "height = 1.68\n",
    "pi = 3.14\n",
    "weight = 68.\n",
    "print(height) # 1.68\n",
    "print(pi) # 3.14\n",
    "print(weight) # 68.0"
   ]
  },
  {
   "cell_type": "markdown",
   "id": "9f55d8c7",
   "metadata": {},
   "source": [
    "Число с плавающей точкой можно определять в экспоненциальной записи:\n",
    "\n"
   ]
  },
  {
   "cell_type": "code",
   "execution_count": 13,
   "id": "4d73afaf",
   "metadata": {},
   "outputs": [
    {
     "name": "stdout",
     "output_type": "stream",
     "text": [
      "3900.0\n",
      "0.0039\n"
     ]
    }
   ],
   "source": [
    "x = 3.9e3\n",
    "print(x) # 3900.0\n",
    "x = 3.9e-3\n",
    "print(x) # 0.0039"
   ]
  },
  {
   "cell_type": "markdown",
   "id": "4dc66496",
   "metadata": {},
   "source": [
    "Число float может иметь только 18 значимых символов. Так, в данном случае используются только два символа - 3.9. И если число слишком велико или слишком мало, то мы можем записывать число в подобной нотации, используя экспоненту. Число после экспоненты указывает степень числа 10, на которое надо умножить основное число - 3.9.\n",
    "\n"
   ]
  },
  {
   "cell_type": "markdown",
   "id": "b84e35dc",
   "metadata": {},
   "source": [
    "## Комплексные числа"
   ]
  },
  {
   "cell_type": "markdown",
   "id": "ee767740",
   "metadata": {},
   "source": [
    "Тип complex представляет комплексные числа в формате вещественная_часть+мнимая_частьj - после мнимой части указывается суффикс j\n",
    "\n"
   ]
  },
  {
   "cell_type": "code",
   "execution_count": 14,
   "id": "0112fded",
   "metadata": {},
   "outputs": [
    {
     "name": "stdout",
     "output_type": "stream",
     "text": [
      "(1+2j)\n"
     ]
    }
   ],
   "source": [
    "complexNumber = 1+2j\n",
    "print(complexNumber) # (1+2j)"
   ]
  },
  {
   "cell_type": "markdown",
   "id": "e6ba783d",
   "metadata": {},
   "source": [
    "## Строки"
   ]
  },
  {
   "cell_type": "markdown",
   "id": "ffeddb6e",
   "metadata": {},
   "source": [
    "Тип str представляет строки. Строка представляет последовательность символов, заключенную в одинарные или двойные кавычки, например \"hello\" и 'hello'. В Python 3.x строки представляют набор символов в кодировке Unicode"
   ]
  },
  {
   "cell_type": "code",
   "execution_count": 15,
   "id": "8acab695",
   "metadata": {},
   "outputs": [
    {
     "name": "stdout",
     "output_type": "stream",
     "text": [
      "Hello World!\n",
      "Tom\n"
     ]
    }
   ],
   "source": [
    "message = \"Hello World!\"\n",
    "print(message) # Hello World!\n",
    "\n",
    "name = 'Tom'\n",
    "print(name) # Tom"
   ]
  },
  {
   "cell_type": "markdown",
   "id": "8487127f",
   "metadata": {},
   "source": [
    "При этом если строка имеет много символов, ее можем разбить ее на части и разместить их на разных строках кода. В этом случае вся строка заключается в круглые скобки, а ее отдельные части - в кавычки:\n",
    "\n"
   ]
  },
  {
   "cell_type": "code",
   "execution_count": 16,
   "id": "eff564f0",
   "metadata": {},
   "outputs": [
    {
     "name": "stdout",
     "output_type": "stream",
     "text": [
      "Laudate omnes gentes laudate Magnificat in secula \n"
     ]
    }
   ],
   "source": [
    "text = (\"Laudate omnes gentes laudate \"\n",
    "        \"Magnificat in secula \")\n",
    "print(text)"
   ]
  },
  {
   "cell_type": "markdown",
   "id": "94d4b573",
   "metadata": {},
   "source": [
    "Если же мы хотим определить многострочный текст, то такой текст заключается в тройные двойные или одинарные кавычки:\n",
    "\n"
   ]
  },
  {
   "cell_type": "code",
   "execution_count": 17,
   "id": "131d2086",
   "metadata": {},
   "outputs": [
    {
     "name": "stdout",
     "output_type": "stream",
     "text": [
      "Laudate omnes gentes laudate\n",
      "Magnificat in secula\n",
      "Et anima mea laudate\n",
      "Magnificat in secula \n",
      "\n"
     ]
    }
   ],
   "source": [
    "'''\n",
    "Это комментарий\n",
    "'''\n",
    "text = '''Laudate omnes gentes laudate\n",
    "Magnificat in secula\n",
    "Et anima mea laudate\n",
    "Magnificat in secula \n",
    "'''\n",
    "print(text)"
   ]
  },
  {
   "cell_type": "markdown",
   "id": "4f4bb5cf",
   "metadata": {},
   "source": [
    "При использовани тройных одинарных кавычек не стоит путать их с комментариями: если текст в тройных одинарных кавычках присваивается переменной, то это строка, а не комментарий.\n",
    "\n"
   ]
  },
  {
   "cell_type": "markdown",
   "id": "bbba8b25",
   "metadata": {},
   "source": [
    "## Управляющие последовательности в строке"
   ]
  },
  {
   "cell_type": "markdown",
   "id": "bdb41810",
   "metadata": {},
   "source": [
    "Строка может содержать ряд специальных символов - управляющих последовательностей. Некоторые из них:\n",
    "\n"
   ]
  },
  {
   "cell_type": "markdown",
   "id": "7c0cb01f",
   "metadata": {},
   "source": [
    "\\\\: позволяет добавить внутрь строки слеш\n",
    "\n",
    "\\\\': позволяет добавить внутрь строки одинарную кавычку\n",
    "\n",
    "\\\\\": позволяет добавить внутрь строки двойную кавычку\n",
    "\n",
    "\\n: осуществляет переход на новую строку\n",
    "\n",
    "\\t: добавляет табуляцию (4 отступа)"
   ]
  },
  {
   "cell_type": "markdown",
   "id": "d3acbefe",
   "metadata": {},
   "source": [
    "Применим несколько последовательностей:\n",
    "\n"
   ]
  },
  {
   "cell_type": "code",
   "execution_count": 18,
   "id": "2a41cc25",
   "metadata": {},
   "outputs": [
    {
     "name": "stdout",
     "output_type": "stream",
     "text": [
      "Message:\n",
      "\"Hello World\"\n"
     ]
    }
   ],
   "source": [
    "text = \"Message:\\n\\\"Hello World\\\"\"\n",
    "print(text)"
   ]
  },
  {
   "cell_type": "markdown",
   "id": "a914ce10",
   "metadata": {},
   "source": [
    "Консольный вывод программы:"
   ]
  },
  {
   "cell_type": "markdown",
   "id": "53163a1f",
   "metadata": {},
   "source": [
    "Message:\n",
    "\n",
    "\"Hello World\"\n"
   ]
  },
  {
   "cell_type": "markdown",
   "id": "0fb64bc5",
   "metadata": {},
   "source": [
    "Хотя подобные последовательности могут нам помочь в некоторых делах, например, поместить в строку кавычку, сделать табуляцию, перенос на другую строку. Но они также могут и мешать.\n",
    "\n"
   ]
  },
  {
   "cell_type": "markdown",
   "id": "325edef6",
   "metadata": {},
   "source": [
    "Например:"
   ]
  },
  {
   "cell_type": "code",
   "execution_count": 19,
   "id": "a81eb3d9",
   "metadata": {},
   "outputs": [
    {
     "name": "stdout",
     "output_type": "stream",
     "text": [
      "C:\\python\n",
      "ame.txt\n"
     ]
    }
   ],
   "source": [
    "path = \"C:\\python\\name.txt\"\n",
    "print(path)"
   ]
  },
  {
   "cell_type": "markdown",
   "id": "8c606e65",
   "metadata": {},
   "source": [
    "Здесь переменная path содержит некоторый путь к файлу. Однако внутри строки встречаются символы \"\\n\", которые будут интерпретированы как управляющая последовательность. Так, мы получим следующий консольный вывод:\n",
    "\n"
   ]
  },
  {
   "cell_type": "markdown",
   "id": "ea3c67e8",
   "metadata": {},
   "source": [
    "C:\\python\n",
    "\n",
    "ame.txt\n"
   ]
  },
  {
   "cell_type": "markdown",
   "id": "e2e87383",
   "metadata": {},
   "source": [
    "Чтобы избежать подобной ситуации, перед строкой ставится символ r\n",
    "\n"
   ]
  },
  {
   "cell_type": "code",
   "execution_count": 20,
   "id": "c7eeb5f8",
   "metadata": {},
   "outputs": [
    {
     "name": "stdout",
     "output_type": "stream",
     "text": [
      "C:\\python\\name.txt\n"
     ]
    }
   ],
   "source": [
    "path = r\"C:\\python\\name.txt\"\n",
    "print(path)"
   ]
  },
  {
   "cell_type": "markdown",
   "id": "3c1171be",
   "metadata": {},
   "source": [
    "## Вставка значений в строку"
   ]
  },
  {
   "cell_type": "markdown",
   "id": "761ac0e1",
   "metadata": {},
   "source": [
    "Python позволяет встравивать в строку значения других переменных. Для этого внутри строки переменные размещаются в фигурных скобках {}, а перед всей строкой ставится символ f:\n",
    "\n"
   ]
  },
  {
   "cell_type": "code",
   "execution_count": 21,
   "id": "763d1ab7",
   "metadata": {},
   "outputs": [
    {
     "name": "stdout",
     "output_type": "stream",
     "text": [
      "name: Tom  age: 37\n"
     ]
    }
   ],
   "source": [
    "userName = \"Tom\"\n",
    "userAge = 37\n",
    "user = f\"name: {userName}  age: {userAge}\"\n",
    "print(user) # name: Tom  age: 37"
   ]
  },
  {
   "cell_type": "markdown",
   "id": "be39b5ca",
   "metadata": {},
   "source": [
    "В данном случае на место {userName} будет вставляться значение переменной userName. Аналогично на вместо {userAge} будет вставляться значение переменной userAge.\n",
    "\n"
   ]
  },
  {
   "cell_type": "markdown",
   "id": "0c0a1ea8",
   "metadata": {},
   "source": [
    "## Динамическая типизация"
   ]
  },
  {
   "cell_type": "markdown",
   "id": "de51f0df",
   "metadata": {},
   "source": [
    "Python является языком с динамической типизацией. А это значит, что переменная не привязана жестко с определенному типу.\n",
    "\n"
   ]
  },
  {
   "cell_type": "markdown",
   "id": "e903c03a",
   "metadata": {},
   "source": [
    "Тип переменной определяется исходя из значения, которое ей присвоено. Так, при присвоении строки в двойных или одинарных кавычках переменная имеет тип str. При присвоении целого числа Python автоматически определяет тип переменной как int. Чтобы определить переменную как объект float, ей присваивается дробное число, в котором разделителем целой и дробной части является точка.\n",
    "\n"
   ]
  },
  {
   "cell_type": "markdown",
   "id": "e1618555",
   "metadata": {},
   "source": [
    "При этом в процессе работы программы мы можем изменить тип переменной, присвоив ей значение другого типа:\n",
    "\n"
   ]
  },
  {
   "cell_type": "code",
   "execution_count": 22,
   "id": "812f8d68",
   "metadata": {},
   "outputs": [
    {
     "name": "stdout",
     "output_type": "stream",
     "text": [
      "abc\n",
      "234\n"
     ]
    }
   ],
   "source": [
    "userId = \"abc\" # тип str\n",
    "print(userId)\n",
    "\n",
    "userId = 234 # тип int\n",
    "print(userId)"
   ]
  },
  {
   "cell_type": "markdown",
   "id": "ead70a55",
   "metadata": {},
   "source": [
    "С помощью встроенной функции type() динамически можно узнать текущий тип переменной:\n",
    "\n"
   ]
  },
  {
   "cell_type": "code",
   "execution_count": 23,
   "id": "1088ddc7",
   "metadata": {},
   "outputs": [
    {
     "name": "stdout",
     "output_type": "stream",
     "text": [
      "<class 'str'>\n",
      "<class 'int'>\n"
     ]
    }
   ],
   "source": [
    "userId = \"abc\" # тип str\n",
    "print(type(userId)) # <class 'str'>\n",
    "\n",
    "userId = 234 # тип int\n",
    "print(type(userId)) # <class 'int'>"
   ]
  },
  {
   "cell_type": "code",
   "execution_count": null,
   "id": "e7ba21df",
   "metadata": {},
   "outputs": [],
   "source": []
  }
 ],
 "metadata": {
  "kernelspec": {
   "display_name": "Python 3 (ipykernel)",
   "language": "python",
   "name": "python3"
  },
  "language_info": {
   "codemirror_mode": {
    "name": "ipython",
    "version": 3
   },
   "file_extension": ".py",
   "mimetype": "text/x-python",
   "name": "python",
   "nbconvert_exporter": "python",
   "pygments_lexer": "ipython3",
   "version": "3.9.7"
  }
 },
 "nbformat": 4,
 "nbformat_minor": 5
}

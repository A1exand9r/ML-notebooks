{
 "cells": [
  {
   "cell_type": "markdown",
   "id": "837efe70",
   "metadata": {},
   "source": [
    "# Переменные и типы данных"
   ]
  },
  {
   "cell_type": "markdown",
   "id": "9ca97797",
   "metadata": {},
   "source": [
    "## Переменные"
   ]
  },
  {
   "cell_type": "markdown",
   "id": "843d94b9",
   "metadata": {},
   "source": [
    "Переменные предназначены для хранения данных. Название переменной в Python должно начинаться с алфавитного символа или со знака подчеркивания и может содержать алфавитно-цифровые символы и знак подчеркивания. И кроме того, название переменной не должно совпадать с названием ключевых слов языка Python. Ключевых слов не так много, их легко запомнить:\n",
    "\n"
   ]
  },
  {
   "cell_type": "markdown",
   "id": "c5dd86b9",
   "metadata": {},
   "source": [
    "#### False      await      else       import     pass\n",
    "#### None       break      except     in         raise\n",
    "#### True       class      finally    is         return\n",
    "#### and        continue   for        lambda     try\n",
    "#### as         def        from       nonlocal   while\n",
    "#### assert     del        global     not        with\n",
    "#### async      elif       if         or         yield"
   ]
  },
  {
   "cell_type": "markdown",
   "id": "e05d0ba1",
   "metadata": {},
   "source": [
    "Например, создадим переменную:"
   ]
  },
  {
   "cell_type": "code",
   "execution_count": 3,
   "id": "409862cf",
   "metadata": {},
   "outputs": [],
   "source": [
    "name = \"Tom\""
   ]
  },
  {
   "cell_type": "markdown",
   "id": "caae1eba",
   "metadata": {},
   "source": [
    "Здесь определена переменная name, которая хранит строку \"Tom\".\n",
    "\n"
   ]
  },
  {
   "cell_type": "markdown",
   "id": "1bacd47b",
   "metadata": {},
   "source": [
    "В пайтоне применяется два типа наименования переменных: camel case и underscore notation"
   ]
  },
  {
   "cell_type": "markdown",
   "id": "ea451653",
   "metadata": {},
   "source": [
    "Camel case подразумевает, что каждое новое подслово в наименовании переменной начинается с большой буквы. Например:\n",
    "\n"
   ]
  },
  {
   "cell_type": "code",
   "execution_count": 5,
   "id": "7d57c60a",
   "metadata": {},
   "outputs": [],
   "source": [
    "userName = \"Tom\""
   ]
  },
  {
   "cell_type": "markdown",
   "id": "14b9de35",
   "metadata": {},
   "source": [
    "Underscore notation подразумевает, что подслова в наименовании переменной разделяются знаком подчеркивания. Например:\n",
    "\n"
   ]
  },
  {
   "cell_type": "code",
   "execution_count": 6,
   "id": "205a91a8",
   "metadata": {},
   "outputs": [],
   "source": [
    "user_name = \"Tom\""
   ]
  },
  {
   "cell_type": "markdown",
   "id": "8d0535cf",
   "metadata": {},
   "source": [
    "И также надо учитывать регистрозависимость, поэтому переменные name и Name будут представлять разные объекты.\n",
    "\n"
   ]
  },
  {
   "cell_type": "code",
   "execution_count": 7,
   "id": "67fb6bf7",
   "metadata": {},
   "outputs": [],
   "source": [
    "# две разные переменные\n",
    "name = \"Tom\"\n",
    "Name = \"Tom\""
   ]
  },
  {
   "cell_type": "markdown",
   "id": "810cb6ff",
   "metadata": {},
   "source": [
    "Определив переменную, мы можем использовать в программе. Например, попытаться вывести ее содержимое на консоль с помощью встроенной функции print:\n",
    "\n"
   ]
  },
  {
   "cell_type": "code",
   "execution_count": 9,
   "id": "4a917319",
   "metadata": {},
   "outputs": [
    {
     "name": "stdout",
     "output_type": "stream",
     "text": [
      "Tom\n"
     ]
    }
   ],
   "source": [
    "name = \"Tom\" # определение переменной name\n",
    "print(name) # вывод значения переменной name на консоль"
   ]
  },
  {
   "cell_type": "markdown",
   "id": "0fb9c9f7",
   "metadata": {},
   "source": [
    "Отличительной особенностью переменной является то, что мы можем менять ее значение в течение работы программы:\n",
    "\n"
   ]
  },
  {
   "cell_type": "code",
   "execution_count": 10,
   "id": "62b488c9",
   "metadata": {},
   "outputs": [
    {
     "name": "stdout",
     "output_type": "stream",
     "text": [
      "Tom\n",
      "Bob\n"
     ]
    }
   ],
   "source": [
    "name = \"Tom\" # переменной name равна \"Tom\"\n",
    "print(name) # выводит: Tom\n",
    "name = \"Bob\" # меняем значение на \"Bob\"\n",
    "print(name) # выводит: Bob"
   ]
  },
  {
   "cell_type": "markdown",
   "id": "86095cd8",
   "metadata": {},
   "source": [
    "## Типы данных\n"
   ]
  },
  {
   "cell_type": "markdown",
   "id": "2c3dbee7",
   "metadata": {},
   "source": [
    "Переменная хранит данные одного из типов данных. В Python существует множество различных типов данных. В данном случае рассмотрим только самые базовые типы: bool, int, float, complex и str.\n",
    "\n"
   ]
  },
  {
   "cell_type": "markdown",
   "id": "cc3fe222",
   "metadata": {},
   "source": [
    "## Логические значения\n"
   ]
  },
  {
   "cell_type": "markdown",
   "id": "4c325aac",
   "metadata": {},
   "source": [
    "Тип bool представляет два логических значения: True (верно, истина) или False (неверно, ложь). Значение True служит для того, чтобы показать, что что-то истинно. Тогда как значение False, наоборот, показывает, что что-то ложно. Пример переменных данного типа:\n",
    "\n"
   ]
  },
  {
   "cell_type": "code",
   "execution_count": 13,
   "id": "2b982f9a",
   "metadata": {},
   "outputs": [
    {
     "name": "stdout",
     "output_type": "stream",
     "text": [
      "False\n",
      "True\n"
     ]
    }
   ],
   "source": [
    "isMarried = False\n",
    "print(isMarried) # False\n",
    "\n",
    "isAlive = True\n",
    "print(isAlive) # True"
   ]
  },
  {
   "cell_type": "markdown",
   "id": "9259dc77",
   "metadata": {},
   "source": [
    "## Целые числа\n"
   ]
  },
  {
   "cell_type": "markdown",
   "id": "d9dafc5f",
   "metadata": {},
   "source": [
    "Тип int представляет целое число, например, 1, 4, 8, 50. Пример\n",
    "\n"
   ]
  },
  {
   "cell_type": "code",
   "execution_count": 20,
   "id": "23294a0a",
   "metadata": {},
   "outputs": [
    {
     "name": "stdout",
     "output_type": "stream",
     "text": [
      "Возраст: 21\n",
      "Количество: 15\n"
     ]
    }
   ],
   "source": [
    "age = 21\n",
    "print(\"Возраст:\", age) # Возраст:21\n",
    "\n",
    "count = 15\n",
    "print(\"Количество:\", count) # Количество: 15"
   ]
  },
  {
   "cell_type": "markdown",
   "id": "d8c1c817",
   "metadata": {},
   "source": [
    "По умолчанию стандартные числа расцениваются как числа в десятичной системе. Но Python также поддерживает числа в двоичной, восьмеричной и шестнадцатеричной системах.\n",
    "\n"
   ]
  },
  {
   "cell_type": "markdown",
   "id": "adf9fd42",
   "metadata": {},
   "source": [
    "Для указания, что число представляет двоичную систему, перед числом ставится префикс 0b:\n",
    "\n"
   ]
  },
  {
   "cell_type": "code",
   "execution_count": 22,
   "id": "8ba715c5",
   "metadata": {},
   "outputs": [
    {
     "name": "stdout",
     "output_type": "stream",
     "text": [
      "3\n",
      "11\n",
      "33\n"
     ]
    }
   ],
   "source": [
    "a = 0b11\n",
    "b = 0b1011\n",
    "c = 0b100001\n",
    "print(a) # 3 в десятичной системе\n",
    "print(b) # 11 в десятичной системе\n",
    "print(c) # 33 в десятичной системе"
   ]
  },
  {
   "cell_type": "markdown",
   "id": "f81589d8",
   "metadata": {},
   "source": [
    "Для указания, что число представляет восьмеричную систему, перед числом ставится префикс 0o:"
   ]
  },
  {
   "cell_type": "code",
   "execution_count": 23,
   "id": "eb5a3d07",
   "metadata": {},
   "outputs": [
    {
     "name": "stdout",
     "output_type": "stream",
     "text": [
      "7\n",
      "9\n",
      "15\n"
     ]
    }
   ],
   "source": [
    "a = 0o7\n",
    "b = 0o11\n",
    "c = 0o17\n",
    "print(a) # 7 в десятичной системе\n",
    "print(b) # 9 в десятичной системе\n",
    "print(c) # 15 в десятичной системе"
   ]
  },
  {
   "cell_type": "markdown",
   "id": "964cf9cb",
   "metadata": {},
   "source": [
    "Для указания, что число представляет шестнадцатеричную систему, перед числом ставится префикс 0x:\n",
    "\n"
   ]
  },
  {
   "cell_type": "code",
   "execution_count": 24,
   "id": "c67353fd",
   "metadata": {},
   "outputs": [
    {
     "name": "stdout",
     "output_type": "stream",
     "text": [
      "10\n",
      "255\n",
      "161\n"
     ]
    }
   ],
   "source": [
    "a = 0x0A\n",
    "b = 0xFF\n",
    "c = 0xA1\n",
    "print(a) # 10 в десятичной системе\n",
    "print(b) # 255 в десятичной системе\n",
    "print(c) # 161 в десятичной системе"
   ]
  },
  {
   "cell_type": "markdown",
   "id": "b30be730",
   "metadata": {},
   "source": [
    "Стоит отметить, что в какой-бы системе мы не передали число в функцию print для вывода на консоль, оно по умолчанию будет выводиться в десятичной системе.\n",
    "\n"
   ]
  },
  {
   "cell_type": "markdown",
   "id": "32d47285",
   "metadata": {},
   "source": [
    "## Дробные числа\n"
   ]
  },
  {
   "cell_type": "markdown",
   "id": "d236e581",
   "metadata": {},
   "source": [
    "Тип float представляет число с плавающей точкой, например, 1.2 или 34.76. В качесте разделителя целой и дробной частей используется точка.\n",
    "\n"
   ]
  },
  {
   "cell_type": "code",
   "execution_count": 25,
   "id": "2bc11ff4",
   "metadata": {},
   "outputs": [
    {
     "name": "stdout",
     "output_type": "stream",
     "text": [
      "1.68\n",
      "3.14\n",
      "68.0\n"
     ]
    }
   ],
   "source": [
    "height = 1.68\n",
    "pi = 3.14\n",
    "weight = 68.\n",
    "print(height) # 1.68\n",
    "print(pi) # 3.14\n",
    "print(weight) # 68.0"
   ]
  },
  {
   "cell_type": "markdown",
   "id": "0186d419",
   "metadata": {},
   "source": [
    "Число с плавающей точкой можно определять в экспоненциальной записи:\n",
    "\n"
   ]
  },
  {
   "cell_type": "code",
   "execution_count": 27,
   "id": "14a0f816",
   "metadata": {},
   "outputs": [
    {
     "name": "stdout",
     "output_type": "stream",
     "text": [
      "3900.0\n",
      "0.0039\n"
     ]
    }
   ],
   "source": [
    "x = 3.9e3\n",
    "print(x) # 3900.0\n",
    "x = 3.9e-3\n",
    "print(x) # 0.0039"
   ]
  },
  {
   "cell_type": "markdown",
   "id": "b022b22c",
   "metadata": {},
   "source": [
    "Число float может иметь только 18 значимых символов. Так, в данном случае используются только два символа - 3.9. И если число слишком велико или слишком мало, то мы можем записывать число в подобной нотации, используя экспоненту. Число после экспоненты указывает степень числа 10, на которое надо умножить основное число - 3.9.\n",
    "\n"
   ]
  },
  {
   "cell_type": "markdown",
   "id": "a7eaf115",
   "metadata": {},
   "source": [
    "## Комплексные числа"
   ]
  },
  {
   "cell_type": "markdown",
   "id": "e5e2af03",
   "metadata": {},
   "source": [
    "Тип complex представляет комплексные числа в формате вещественная_часть+мнимая_частьj - после мнимой части указывается суффикс j\n",
    "\n"
   ]
  },
  {
   "cell_type": "code",
   "execution_count": 28,
   "id": "73e99e8e",
   "metadata": {},
   "outputs": [
    {
     "name": "stdout",
     "output_type": "stream",
     "text": [
      "(1+2j)\n"
     ]
    }
   ],
   "source": [
    "complexNumber = 1+2j\n",
    "print(complexNumber) # (1+2j)"
   ]
  },
  {
   "cell_type": "markdown",
   "id": "59ec8dda",
   "metadata": {},
   "source": [
    "## Строки"
   ]
  },
  {
   "cell_type": "markdown",
   "id": "151ecfe0",
   "metadata": {},
   "source": [
    "Тип str представляет строки. Строка представляет последовательность символов, заключенную в одинарные или двойные кавычки, например \"hello\" и 'hello'. В Python 3.x строки представляют набор символов в кодировке Unicode"
   ]
  },
  {
   "cell_type": "code",
   "execution_count": 29,
   "id": "bb1afaaa",
   "metadata": {},
   "outputs": [
    {
     "name": "stdout",
     "output_type": "stream",
     "text": [
      "Hello World!\n",
      "Tom\n"
     ]
    }
   ],
   "source": [
    "message = \"Hello World!\"\n",
    "print(message) # Hello World!\n",
    "\n",
    "name = 'Tom'\n",
    "print(name) # Tom"
   ]
  },
  {
   "cell_type": "markdown",
   "id": "ef7584e7",
   "metadata": {},
   "source": [
    "При этом если строка имеет много символов, ее можем разбить ее на части и разместить их на разных строках кода. В этом случае вся строка заключается в круглые скобки, а ее отдельные части - в кавычки:\n",
    "\n"
   ]
  },
  {
   "cell_type": "code",
   "execution_count": 33,
   "id": "e41aa8ca",
   "metadata": {},
   "outputs": [
    {
     "name": "stdout",
     "output_type": "stream",
     "text": [
      "Laudate omnes gentes laudate Magnificat in secula \n"
     ]
    }
   ],
   "source": [
    "text = (\"Laudate omnes gentes laudate \"\n",
    "        \"Magnificat in secula \")\n",
    "print(text)"
   ]
  },
  {
   "cell_type": "markdown",
   "id": "cc472315",
   "metadata": {},
   "source": [
    "Если же мы хотим определить многострочный текст, то такой текст заключается в тройные двойные или одинарные кавычки:\n",
    "\n"
   ]
  },
  {
   "cell_type": "code",
   "execution_count": 34,
   "id": "cebfdc10",
   "metadata": {},
   "outputs": [
    {
     "name": "stdout",
     "output_type": "stream",
     "text": [
      "Laudate omnes gentes laudate\n",
      "Magnificat in secula\n",
      "Et anima mea laudate\n",
      "Magnificat in secula \n",
      "\n"
     ]
    }
   ],
   "source": [
    "'''\n",
    "Это комментарий\n",
    "'''\n",
    "text = '''Laudate omnes gentes laudate\n",
    "Magnificat in secula\n",
    "Et anima mea laudate\n",
    "Magnificat in secula \n",
    "'''\n",
    "print(text)"
   ]
  },
  {
   "cell_type": "markdown",
   "id": "2a8b5735",
   "metadata": {},
   "source": [
    "При использовани тройных одинарных кавычек не стоит путать их с комментариями: если текст в тройных одинарных кавычках присваивается переменной, то это строка, а не комментарий.\n",
    "\n"
   ]
  },
  {
   "cell_type": "markdown",
   "id": "039454a2",
   "metadata": {},
   "source": [
    "## Управляющие последовательности в строке"
   ]
  },
  {
   "cell_type": "markdown",
   "id": "e96c0271",
   "metadata": {},
   "source": [
    "Строка может содержать ряд специальных символов - управляющих последовательностей. Некоторые из них:\n",
    "\n"
   ]
  },
  {
   "cell_type": "markdown",
   "id": "930fc176",
   "metadata": {},
   "source": [
    "\\\\: позволяет добавить внутрь строки слеш\n",
    "\n",
    "\\\\': позволяет добавить внутрь строки одинарную кавычку\n",
    "\n",
    "\\\\\": позволяет добавить внутрь строки двойную кавычку\n",
    "\n",
    "\\n: осуществляет переход на новую строку\n",
    "\n",
    "\\t: добавляет табуляцию (4 отступа)"
   ]
  },
  {
   "cell_type": "markdown",
   "id": "927b117b",
   "metadata": {},
   "source": [
    "Применим несколько последовательностей:\n",
    "\n"
   ]
  },
  {
   "cell_type": "code",
   "execution_count": 35,
   "id": "1c2d29fc",
   "metadata": {},
   "outputs": [
    {
     "name": "stdout",
     "output_type": "stream",
     "text": [
      "Message:\n",
      "\"Hello World\"\n"
     ]
    }
   ],
   "source": [
    "text = \"Message:\\n\\\"Hello World\\\"\"\n",
    "print(text)"
   ]
  },
  {
   "cell_type": "markdown",
   "id": "39b17860",
   "metadata": {},
   "source": [
    "Консольный вывод программы:"
   ]
  },
  {
   "cell_type": "markdown",
   "id": "500e5d53",
   "metadata": {},
   "source": [
    "Message:\n",
    "\n",
    "\"Hello World\"\n"
   ]
  },
  {
   "cell_type": "markdown",
   "id": "81a5435f",
   "metadata": {},
   "source": [
    "Хотя подобные последовательности могут нам помочь в некоторых делах, например, поместить в строку кавычку, сделать табуляцию, перенос на другую строку. Но они также могут и мешать.\n",
    "\n"
   ]
  },
  {
   "cell_type": "markdown",
   "id": "137430c8",
   "metadata": {},
   "source": [
    "Например:"
   ]
  },
  {
   "cell_type": "code",
   "execution_count": 37,
   "id": "395faa07",
   "metadata": {},
   "outputs": [
    {
     "name": "stdout",
     "output_type": "stream",
     "text": [
      "C:\\python\n",
      "ame.txt\n"
     ]
    }
   ],
   "source": [
    "path = \"C:\\python\\name.txt\"\n",
    "print(path)"
   ]
  },
  {
   "cell_type": "code",
   "execution_count": null,
   "id": "2e8437dd",
   "metadata": {},
   "outputs": [],
   "source": []
  }
 ],
 "metadata": {
  "kernelspec": {
   "display_name": "Python 3 (ipykernel)",
   "language": "python",
   "name": "python3"
  },
  "language_info": {
   "codemirror_mode": {
    "name": "ipython",
    "version": 3
   },
   "file_extension": ".py",
   "mimetype": "text/x-python",
   "name": "python",
   "nbconvert_exporter": "python",
   "pygments_lexer": "ipython3",
   "version": "3.9.7"
  }
 },
 "nbformat": 4,
 "nbformat_minor": 5
}

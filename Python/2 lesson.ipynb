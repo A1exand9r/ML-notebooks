{
 "cells": [
  {
   "cell_type": "markdown",
   "id": "26d01377",
   "metadata": {},
   "source": [
    "# Консольный ввод и вывод\n"
   ]
  },
  {
   "cell_type": "markdown",
   "id": "08fa1394",
   "metadata": {},
   "source": [
    "## Вывод на консоль\n"
   ]
  },
  {
   "cell_type": "markdown",
   "id": "fd77b32d",
   "metadata": {},
   "source": [
    "Для вывода информации на консоль предназначена встроенная функция print(). При вызове этой функции ей в скобках передается выводимое значение:\n",
    "\n"
   ]
  },
  {
   "cell_type": "code",
   "execution_count": 3,
   "id": "ce774e82",
   "metadata": {},
   "outputs": [
    {
     "name": "stdout",
     "output_type": "stream",
     "text": [
      "Hello METANIT.COM\n"
     ]
    }
   ],
   "source": [
    "print(\"Hello METANIT.COM\")"
   ]
  },
  {
   "cell_type": "markdown",
   "id": "83c438f0",
   "metadata": {},
   "source": [
    "Данный код выведет нам на консоль строку \"Hello METANIT.COM\".\n",
    "\n",
    "Отличительной особенностью этой функции является то, что по умолчанию она выводит значение на отдельной строке. Например:\n",
    "\n"
   ]
  },
  {
   "cell_type": "code",
   "execution_count": 4,
   "id": "eacda072",
   "metadata": {},
   "outputs": [
    {
     "name": "stdout",
     "output_type": "stream",
     "text": [
      "Hello World\n",
      "Hello METANIT.COM\n",
      "Hello Python\n"
     ]
    }
   ],
   "source": [
    "print(\"Hello World\")\n",
    "print(\"Hello METANIT.COM\")\n",
    "print(\"Hello Python\")"
   ]
  },
  {
   "cell_type": "markdown",
   "id": "1a20a9ed",
   "metadata": {},
   "source": [
    "Здесь три вызова функции print() выводят некоторое сообщение. Причем при выводе на консоль каждое сообщение будет размещаться на отдельной строке:\n",
    "\n"
   ]
  },
  {
   "cell_type": "markdown",
   "id": "9c18dc34",
   "metadata": {},
   "source": [
    "Hello World\n",
    "\n",
    "Hello METANIT.COM\n",
    "\n",
    "Hello Python\n"
   ]
  },
  {
   "cell_type": "markdown",
   "id": "a2d87a97",
   "metadata": {},
   "source": [
    "Такое поведение не всегда удобно. Например, мы хотим, чтобы все значения выводились на одной строке. Для этого нам надо настроить поведение функции с помощью параметра end. Этот параметр задает символы, которые добавляются в конце к выводимой строке и . При применении параметра end вызов функции print() выглядит следующим образом:\n",
    "\n"
   ]
  },
  {
   "cell_type": "markdown",
   "id": "200e5128",
   "metadata": {},
   "source": [
    "print(значение, end = конечные_символы)"
   ]
  },
  {
   "cell_type": "markdown",
   "id": "10b77911",
   "metadata": {},
   "source": [
    "По умолчанию end равен символу \"\\n\", который задает перевод на следующую строку. Собственно поэтому функция print по умолчанию выводит передаваемое ей значение на отдельной строке.\n",
    "\n"
   ]
  },
  {
   "cell_type": "markdown",
   "id": "c5285330",
   "metadata": {},
   "source": [
    "Теперь определим, чтобы функция не делала перевод на следующую строку, а выводила значение на той же строке:\n",
    "\n"
   ]
  },
  {
   "cell_type": "code",
   "execution_count": 6,
   "id": "280a4373",
   "metadata": {},
   "outputs": [
    {
     "name": "stdout",
     "output_type": "stream",
     "text": [
      "Hello World Hello METANIT.COM Hello Python\n"
     ]
    }
   ],
   "source": [
    "print(\"Hello World\", end=\" \")\n",
    "print(\"Hello METANIT.COM\", end=\" \")\n",
    "print(\"Hello Python\")"
   ]
  },
  {
   "cell_type": "markdown",
   "id": "81d948cf",
   "metadata": {},
   "source": [
    "То есть теперь выводимые значения будут разделяться пробелом:\n",
    "\n"
   ]
  },
  {
   "cell_type": "markdown",
   "id": "613b5951",
   "metadata": {},
   "source": [
    "Hello World Hello METANIT.COM Hello Python\n"
   ]
  },
  {
   "cell_type": "markdown",
   "id": "8b25d16c",
   "metadata": {},
   "source": [
    "Причем это может быть не один символ, а набор символов:\n",
    "\n"
   ]
  },
  {
   "cell_type": "code",
   "execution_count": 7,
   "id": "1711a5b4",
   "metadata": {},
   "outputs": [
    {
     "name": "stdout",
     "output_type": "stream",
     "text": [
      "Hello World and Hello METANIT.COM and Hello Python\n"
     ]
    }
   ],
   "source": [
    "print(\"Hello World\", end=\" and \")\n",
    "print(\"Hello METANIT.COM\", end=\" and \")\n",
    "print(\"Hello Python\")"
   ]
  },
  {
   "cell_type": "markdown",
   "id": "aed25583",
   "metadata": {},
   "source": [
    "В данном случае выводимые сообщения будут отделяться символами \" and \":\n",
    "\n"
   ]
  },
  {
   "cell_type": "markdown",
   "id": "713c31a2",
   "metadata": {},
   "source": [
    "Hello World and Hello METANIT.COM and Hello Python\n"
   ]
  },
  {
   "cell_type": "markdown",
   "id": "cba67f04",
   "metadata": {},
   "source": [
    "## Консольный ввод\n"
   ]
  },
  {
   "cell_type": "markdown",
   "id": "9efcc96d",
   "metadata": {},
   "source": [
    "Наряду с выводом на консоль мы можем получать ввод пользователя с консоли, получать вводимые данные. Для этого в Python определена функция input(). В эту функцию передается приглашение к вводу. А результат ввода мы можем сохранить в переменную. Например, определим код для ввода пользователем имени:\n",
    "\n"
   ]
  },
  {
   "cell_type": "code",
   "execution_count": 8,
   "id": "5d6c756a",
   "metadata": {},
   "outputs": [
    {
     "name": "stdout",
     "output_type": "stream",
     "text": [
      "Введите свое имя: Eugene\n",
      "Ваше имя: Eugene\n"
     ]
    }
   ],
   "source": [
    "name = input(\"Введите свое имя: \")\n",
    "print(f\"Ваше имя: {name}\")"
   ]
  },
  {
   "cell_type": "markdown",
   "id": "6e171a40",
   "metadata": {},
   "source": [
    "В данном случае в функцию input() передается приглашение к вводу в виде строки \"Введите свое имя: \". Результат функции - результат ввода пользователя передается в переменную name. Затем мы можем вывести значение этой переменной на консоль с помощью функции print(). Пример работы кода:\n",
    "\n"
   ]
  },
  {
   "cell_type": "markdown",
   "id": "57220b5d",
   "metadata": {},
   "source": [
    "Введите свое имя: Eugene\n",
    "Ваше имя: Eugene\n"
   ]
  },
  {
   "cell_type": "markdown",
   "id": "9a7ad012",
   "metadata": {},
   "source": [
    "Еще пример с вводом нескольких значений:\n",
    "\n"
   ]
  },
  {
   "cell_type": "code",
   "execution_count": 10,
   "id": "cdee1611",
   "metadata": {},
   "outputs": [
    {
     "name": "stdout",
     "output_type": "stream",
     "text": [
      "Your name: Tom\n",
      "Your age: 37\n",
      "Name: Tom  Age: 37\n"
     ]
    }
   ],
   "source": [
    "name = input(\"Your name: \")\n",
    "age = input(\"Your age: \")\n",
    "print(f\"Name: {name}  Age: {age}\")"
   ]
  },
  {
   "cell_type": "markdown",
   "id": "8f7c506b",
   "metadata": {},
   "source": [
    "Стоит учитывать, что все введенные значения рассматриваются как значения типа str, то есть строки. И даже если мы вводим число, как в втором случае в коде выше, то Python все равно будет рассматривать введенное значение как строку, а не как число.\n",
    "\n"
   ]
  },
  {
   "cell_type": "code",
   "execution_count": 1,
   "id": "4d288c99",
   "metadata": {},
   "outputs": [
    {
     "ename": "NameError",
     "evalue": "name 'ghbdt' is not defined",
     "output_type": "error",
     "traceback": [
      "\u001b[1;31m---------------------------------------------------------------------------\u001b[0m",
      "\u001b[1;31mNameError\u001b[0m                                 Traceback (most recent call last)",
      "\u001b[1;32m~\\AppData\\Local\\Temp/ipykernel_15864/3640570315.py\u001b[0m in \u001b[0;36m<module>\u001b[1;34m\u001b[0m\n\u001b[1;32m----> 1\u001b[1;33m \u001b[0mghbdt\u001b[0m\u001b[1;33m\u001b[0m\u001b[1;33m\u001b[0m\u001b[0m\n\u001b[0m",
      "\u001b[1;31mNameError\u001b[0m: name 'ghbdt' is not defined"
     ]
    }
   ],
   "source": [
    "ghbdt"
   ]
  },
  {
   "cell_type": "code",
   "execution_count": null,
   "id": "10a21f9e",
   "metadata": {},
   "outputs": [],
   "source": []
  }
 ],
 "metadata": {
  "kernelspec": {
   "display_name": "Python 3 (ipykernel)",
   "language": "python",
   "name": "python3"
  },
  "language_info": {
   "codemirror_mode": {
    "name": "ipython",
    "version": 3
   },
   "file_extension": ".py",
   "mimetype": "text/x-python",
   "name": "python",
   "nbconvert_exporter": "python",
   "pygments_lexer": "ipython3",
   "version": "3.9.7"
  }
 },
 "nbformat": 4,
 "nbformat_minor": 5
}

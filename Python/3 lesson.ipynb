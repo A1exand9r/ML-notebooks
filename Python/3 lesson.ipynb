{
 "cells": [
  {
   "cell_type": "markdown",
   "id": "17ad31cf",
   "metadata": {},
   "source": [
    "# Арифметические операции с числами"
   ]
  },
  {
   "cell_type": "markdown",
   "id": "5261ac2d",
   "metadata": {},
   "source": [
    "Python поддерживает все распространенные арифметические операции:\n"
   ]
  },
  {
   "cell_type": "markdown",
   "id": "6d81aab7",
   "metadata": {},
   "source": [
    "+\n",
    "\n",
    "Сложение двух чисел:\n",
    "\n"
   ]
  },
  {
   "cell_type": "markdown",
   "id": "351e56f5",
   "metadata": {},
   "source": [
    "print(6 + 2) # 8"
   ]
  },
  {
   "cell_type": "markdown",
   "id": "22ac34be",
   "metadata": {},
   "source": [
    "-\n",
    "\n",
    "Вычитание двух чисел:\n",
    "\n"
   ]
  },
  {
   "cell_type": "code",
   "execution_count": 2,
   "id": "f58e2620",
   "metadata": {},
   "outputs": [
    {
     "name": "stdout",
     "output_type": "stream",
     "text": [
      "4\n"
     ]
    }
   ],
   "source": [
    "print(6 - 2) # 4"
   ]
  },
  {
   "cell_type": "markdown",
   "id": "7a6f54ae",
   "metadata": {},
   "source": [
    "*\n",
    "\n",
    "Умножение двух чисел:\n",
    "\n"
   ]
  },
  {
   "cell_type": "code",
   "execution_count": 3,
   "id": "bf949f3d",
   "metadata": {},
   "outputs": [
    {
     "name": "stdout",
     "output_type": "stream",
     "text": [
      "12\n"
     ]
    }
   ],
   "source": [
    "print(6 * 2) # 12"
   ]
  },
  {
   "cell_type": "markdown",
   "id": "cec6f311",
   "metadata": {},
   "source": [
    "/\n",
    "\n",
    "Деление двух чисел:"
   ]
  },
  {
   "cell_type": "code",
   "execution_count": 5,
   "id": "234aa0d3",
   "metadata": {},
   "outputs": [
    {
     "name": "stdout",
     "output_type": "stream",
     "text": [
      "3.0\n"
     ]
    }
   ],
   "source": [
    "print(6 / 2) # 3.0"
   ]
  },
  {
   "cell_type": "markdown",
   "id": "a4cc92ea",
   "metadata": {},
   "source": [
    "//\n",
    "\n",
    "Целочисленное деление двух чисел:"
   ]
  },
  {
   "cell_type": "code",
   "execution_count": 6,
   "id": "1e9c07f0",
   "metadata": {},
   "outputs": [
    {
     "name": "stdout",
     "output_type": "stream",
     "text": [
      "3.5\n",
      "3\n"
     ]
    }
   ],
   "source": [
    "print(7 / 2) # 3.5\n",
    "print(7 // 2) # 3"
   ]
  },
  {
   "cell_type": "markdown",
   "id": "73846aeb",
   "metadata": {},
   "source": [
    "Данная операция возвращает целочисленный результат деления, отбрасывая дробную часть\n",
    "\n"
   ]
  },
  {
   "cell_type": "markdown",
   "id": "e0255239",
   "metadata": {},
   "source": [
    "**\n",
    "\n",
    "Возведение в степень:\n"
   ]
  },
  {
   "cell_type": "code",
   "execution_count": 7,
   "id": "0679663e",
   "metadata": {},
   "outputs": [
    {
     "name": "stdout",
     "output_type": "stream",
     "text": [
      "36\n"
     ]
    }
   ],
   "source": [
    "print(6 ** 2) # Возводим число 6 в степень 2. Результат - 36"
   ]
  },
  {
   "cell_type": "markdown",
   "id": "0384d15a",
   "metadata": {},
   "source": [
    "%\n",
    "\n",
    "Получение остатка от деления:"
   ]
  },
  {
   "cell_type": "code",
   "execution_count": 8,
   "id": "a4a47941",
   "metadata": {},
   "outputs": [
    {
     "name": "stdout",
     "output_type": "stream",
     "text": [
      "1\n"
     ]
    }
   ],
   "source": [
    "print(7 % 2) # Получение остатка от деления числа 7 на 2. Результат - 1"
   ]
  },
  {
   "cell_type": "markdown",
   "id": "8765e442",
   "metadata": {},
   "source": [
    "В данном случае ближайшее число к 7, которое делится на 2 без остатка, это 6. Поэтому остаток от деления равен 7 - 6 = 1"
   ]
  },
  {
   "cell_type": "markdown",
   "id": "999a10b2",
   "metadata": {},
   "source": [
    "При последовательном использовании нескольких арифметических операций их выполнение производится в соответствии с их приоритетом. В начале выполняются операции с большим приоритетом. Приоритеты операций в порядке убывания приведены в следующей таблице.\n",
    "\n"
   ]
  },
  {
   "cell_type": "markdown",
   "id": "8355d3dc",
   "metadata": {},
   "source": [
    "Операции    Направление\n",
    "\n",
    "**     Справо налево\n",
    "\n",
    "* / // %        Слева направо\n",
    "\n",
    "+ - Слева направо\n",
    "\n"
   ]
  },
  {
   "cell_type": "code",
   "execution_count": null,
   "id": "7654cdf7",
   "metadata": {},
   "outputs": [],
   "source": []
  }
 ],
 "metadata": {
  "kernelspec": {
   "display_name": "Python 3 (ipykernel)",
   "language": "python",
   "name": "python3"
  },
  "language_info": {
   "codemirror_mode": {
    "name": "ipython",
    "version": 3
   },
   "file_extension": ".py",
   "mimetype": "text/x-python",
   "name": "python",
   "nbconvert_exporter": "python",
   "pygments_lexer": "ipython3",
   "version": "3.9.7"
  }
 },
 "nbformat": 4,
 "nbformat_minor": 5
}
